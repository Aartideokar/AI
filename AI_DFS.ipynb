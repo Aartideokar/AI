{
 "cells": [
  {
   "cell_type": "code",
   "execution_count": 2,
   "id": "8b572e69",
   "metadata": {},
   "outputs": [
    {
     "ename": "IndentationError",
     "evalue": "unindent does not match any outer indentation level (<tokenize>, line 33)",
     "output_type": "error",
     "traceback": [
      "\u001b[1;36m  File \u001b[1;32m\"<tokenize>\"\u001b[1;36m, line \u001b[1;32m33\u001b[0m\n\u001b[1;33m    def DFS(self,v):\u001b[0m\n\u001b[1;37m    ^\u001b[0m\n\u001b[1;31mIndentationError\u001b[0m\u001b[1;31m:\u001b[0m unindent does not match any outer indentation level\n"
     ]
    }
   ],
   "source": [
    "#python program to print BFS traversal from a\n",
    "#given graph\n",
    "from collections import defaultdict\n",
    "\n",
    "#This class represents a directed graph using\n",
    "#adjacency list representation\n",
    "\n",
    "class Graph:\n",
    "    #Constructor\n",
    "    def __init__ (self):\n",
    "\n",
    "        #default dictionary to store graph\n",
    "        self.graph = defaultdict(list)\n",
    "\n",
    "    #function to add an edge to graph\n",
    "    def addEdge (self,u,v):\n",
    "        self.graph[u].append(v)\n",
    "\n",
    "    #A function used by DFS\n",
    "    def DFSUtil(self,v,visited):\n",
    "\n",
    "        #mark the current node as visited and print it\n",
    "        visited[v]= True\n",
    "        print (v)\n",
    "\n",
    "        #Recur for all the vertices adjacent to this vertex\n",
    "        for i in self.graph[v]:\n",
    "            if visited[i] == False:\n",
    "                self.DFSUtil(i,visited)\n",
    "\n",
    "     #The function to do DFS traversal. It uses\n",
    "     #recursive DFSUtil()\n",
    "     def DFS(self,v):\n",
    "         #mark all te vertices as not visited\n",
    "         visited = [False]*(len(self.graph))\n",
    "\n",
    "         #call the recursive helper function to print\n",
    "         #DFS traversal\n",
    "         self.DFSUtil(v, visited)\n",
    "\n",
    "#Driver Code\n",
    "#create a graph given in the above diagram\n",
    "g = Graph()\n",
    "g.addEdge(0,1)\n",
    "g.addEdge(0,2)\n",
    "g.addEdge(1,2)\n",
    "g.addEdge(2,0)\n",
    "g.addEdge(2,3)\n",
    "g.addEdge(3,3)\n",
    "\n",
    "print(\"Following is DFS from(starting from vertex 2)\")\n",
    "g.DFS(2)\n"
   ]
  },
  {
   "cell_type": "code",
   "execution_count": 3,
   "id": "61901de7",
   "metadata": {},
   "outputs": [
    {
     "name": "stdout",
     "output_type": "stream",
     "text": [
      "Following is DFS from(starting from vertex 2)\n",
      "2\n",
      "0\n",
      "1\n",
      "3\n"
     ]
    }
   ],
   "source": [
    "#python program to print BFS traversal from a\n",
    "#given graph\n",
    "from collections import defaultdict\n",
    "\n",
    "#This class represents a directed graph using\n",
    "#adjacency list representation\n",
    "\n",
    "class Graph:\n",
    "    #Constructor\n",
    "    def __init__ (self):\n",
    "\n",
    "        #default dictionary to store graph\n",
    "        self.graph = defaultdict(list)\n",
    "\n",
    "    #function to add an edge to graph\n",
    "    def addEdge (self,u,v):\n",
    "        self.graph[u].append(v)\n",
    "\n",
    "    #A function used by DFS\n",
    "    def DFSUtil(self,v,visited):\n",
    "\n",
    "        #mark the current node as visited and print it\n",
    "        visited[v]= True\n",
    "        print (v)\n",
    "\n",
    "        #Recur for all the vertices adjacent to this vertex\n",
    "        for i in self.graph[v]:\n",
    "            if visited[i] == False:\n",
    "                self.DFSUtil(i,visited)\n",
    "\n",
    "     #The function to do DFS traversal. It uses\n",
    "     #recursive DFSUtil()\n",
    "    def DFS(self,v):\n",
    "          #mark all te vertices as not visited\n",
    "        visited = [False]*(len(self.graph))\n",
    "\n",
    "         #call the recursive helper function to print\n",
    "         #DFS traversal\n",
    "        self.DFSUtil(v,visited)\n",
    "\n",
    "#Driver Code\n",
    "#create a graph given in the above diagram\n",
    "g = Graph()\n",
    "g.addEdge(0,1)\n",
    "g.addEdge(0,2)\n",
    "g.addEdge(1,2)\n",
    "g.addEdge(2,0)\n",
    "g.addEdge(2,3)\n",
    "g.addEdge(3,3)\n",
    "\n",
    "print(\"Following is DFS from(starting from vertex 2)\")\n",
    "g.DFS(2)\n"
   ]
  },
  {
   "cell_type": "code",
   "execution_count": null,
   "id": "6346a479",
   "metadata": {},
   "outputs": [],
   "source": []
  }
 ],
 "metadata": {
  "kernelspec": {
   "display_name": "Python 3",
   "language": "python",
   "name": "python3"
  },
  "language_info": {
   "codemirror_mode": {
    "name": "ipython",
    "version": 3
   },
   "file_extension": ".py",
   "mimetype": "text/x-python",
   "name": "python",
   "nbconvert_exporter": "python",
   "pygments_lexer": "ipython3",
   "version": "3.8.8"
  }
 },
 "nbformat": 4,
 "nbformat_minor": 5
}
