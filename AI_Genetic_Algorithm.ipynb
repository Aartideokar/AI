{
 "cells": [
  {
   "cell_type": "code",
   "execution_count": 1,
   "id": "b33ffb98",
   "metadata": {},
   "outputs": [
    {
     "name": "stdout",
     "output_type": "stream",
     "text": [
      "Requirement already satisfied: deap in c:\\users\\mscit\\anaconda3\\lib\\site-packages (1.3.3)\n",
      "Requirement already satisfied: numpy in c:\\users\\mscit\\anaconda3\\lib\\site-packages (from deap) (1.20.1)\n",
      "[170]\n",
      "[170, 240]\n",
      "[170, 240, 85]\n",
      "[170, 240, 85, 15]\n",
      "[170, 240, 85, 15, 187]\n",
      "[170, 240, 85, 15, 187, 68]\n",
      "[170, 240, 85, 15, 187, 68, 231]\n",
      "[170, 240, 85, 15, 187, 68, 231, 0]\n"
     ]
    }
   ],
   "source": [
    "\"\"\"\n",
    "#Implement Genetic Algorithm\n",
    "\"\"\"\n",
    "\n",
    "!pip install deap\n",
    "\n",
    "from deap import tools\n",
    "import random\n",
    "\n",
    "population=[\"10101010\",\"11110000\",\"01010101\",\"00001111\",\"10111011\",\"01000100\",\"11100111\",\"00000000\"]\n",
    "\n",
    "binary=[]\n",
    "for i in range(len(population)):\n",
    "    binary.append(int(population[i],2))\n",
    "    print(binary)"
   ]
  },
  {
   "cell_type": "code",
   "execution_count": 2,
   "id": "1038a082",
   "metadata": {},
   "outputs": [
    {
     "name": "stdout",
     "output_type": "stream",
     "text": [
      "Individual [ 0 ]; 10101010 \tFitness: 170\n",
      "Individual [ 1 ]; 11110000 \tFitness: 240\n",
      "Individual [ 2 ]; 01010101 \tFitness: 85\n",
      "Individual [ 3 ]; 00001111 \tFitness: 15\n",
      "Individual [ 4 ]; 10111011 \tFitness: 187\n",
      "Individual [ 5 ]; 01000100 \tFitness: 68\n",
      "Individual [ 6 ]; 11100111 \tFitness: 231\n",
      "Individual [ 7 ]; 00000000 \tFitness: 0\n"
     ]
    }
   ],
   "source": [
    "for i in range(len(population)):\n",
    "    print(\"Individual [\",i,\"];\",population[i],\"\\tFitness:\",binary[i])"
   ]
  },
  {
   "cell_type": "code",
   "execution_count": 6,
   "id": "3ad22c93",
   "metadata": {},
   "outputs": [],
   "source": [
    "def crossoverEP():\n",
    "    #selecting parents using function selRandom()\n",
    "    parents=tools.selection.selRandom(population,2)\n",
    "    print(\"Selected individuals\\nParent 1:\",parents[0],\"\\tFitness:\",binary[population.index(parents[0])],\n",
    "          \"\\nParent 2:\",parents[1],\"\\tFitness:\",binary[population.index(parents[1])],\"\\n\")\n",
    "    #creating children using cxOnePoint() function to perform one point crossover\n",
    "    children=list(tools.crossover.cxOnePoint(list(parents[0]),list(parents[1])))\n",
    "    #cxOnePoint() returns character lists of two children converting them to string using .join() \n",
    "    #and calculating their fitness value using int()\n",
    "    f_child1=int(\"\".join(children[0]),2)\n",
    "    f_child2=int(\"\".join(children[1]),2)\n",
    "    #printing children and their fitness value\n",
    "    print(\"Child 1:\",\"\".join(children[0]),\"\\tFitness:\",f_child1)\n",
    "    print(\"Child 2:\",\"\".join(children[1]),\"\\tFitness:\",f_child2)\n",
    "    #finding out which child is stronger to survive for next generation\n",
    "    if(f_child1<f_child2):\n",
    "        print(\"\\nChild\",\"\".join(children[1]),\"Survives to next generation\")\n",
    "    else:\n",
    "        print(\"\\nChild\",\"\".join(children[0]),\"Survives to next generation\")"
   ]
  },
  {
   "cell_type": "code",
   "execution_count": 7,
   "id": "221213a5",
   "metadata": {},
   "outputs": [],
   "source": [
    "def mutationEP():\n",
    "    #selecting parent using selRandom()\n",
    "    parent=tools.selection.selRandom(population,1)\n",
    "    print(\"selected Individual:\",parent[0],\"\\tFitness:\",binary[population.index(parent[0])])\n",
    "    #converting string parent to list of characters because python strings are immutable \n",
    "    child_list=list(parent[0])\n",
    "    #selecting random mutation bit\n",
    "    mutate_bit=random.choice(range(1,7))\n",
    "    #mutation process\n",
    "    if child_list[mutate_bit]=='1':\n",
    "        child_list[mutate_bit]='0'\n",
    "    else:\n",
    "        child_list[mutate_bit]='1'\n",
    "    #calculating the fitness value of child\n",
    "    child=int(\"\".join(child_list),2)\n",
    "    print(\"\\nMutated Child:\",\"\".join(child_list),\"\\nFitness:\",child,\"\\n\")\n",
    "    #finding if the child has evolved or not\n",
    "    if(child<=binary[population.index(parent[0])]):\n",
    "        print(\"child has not evolved\")\n",
    "    if(child>binary [population.index(parent[0])]):\n",
    "        print(\"child has evolved\")"
   ]
  },
  {
   "cell_type": "code",
   "execution_count": null,
   "id": "34524bd0",
   "metadata": {},
   "outputs": [
    {
     "name": "stdout",
     "output_type": "stream",
     "text": [
      "\n",
      "Please Enter Choice(or to quit type exit)\n",
      "Crossover or Mutation:Crossover\n",
      "Selected individuals\n",
      "Parent 1: 01000100 \tFitness: 68 \n",
      "Parent 2: 10111011 \tFitness: 187 \n",
      "\n",
      "Child 1: 01011011 \tFitness: 91\n",
      "Child 2: 10100100 \tFitness: 164\n",
      "\n",
      "Child 10100100 Survives to next generation\n",
      "\n",
      "Please Enter Choice(or to quit type exit)\n",
      "Crossover or Mutation:Mutation\n",
      "selected Individual: 01000100 \tFitness: 68\n",
      "\n",
      "Mutated Child: 01100100 \n",
      "Fitness: 100 \n",
      "\n",
      "child has evolved\n"
     ]
    }
   ],
   "source": [
    "while True:\n",
    "    evolution=input(\"\\nPlease Enter Choice(or to quit type exit)\\nCrossover or Mutation:\").lower()\n",
    "    if evolution=='crossover':\n",
    "        crossoverEP()\n",
    "    elif evolution=='mutation':\n",
    "        mutationEP()\n",
    "    elif evolution=='exit':\n",
    "        break\n",
    "    else:\n",
    "        print(\"please enter a valid choice\")"
   ]
  },
  {
   "cell_type": "code",
   "execution_count": null,
   "id": "83c6caa4",
   "metadata": {},
   "outputs": [],
   "source": []
  }
 ],
 "metadata": {
  "kernelspec": {
   "display_name": "Python 3",
   "language": "python",
   "name": "python3"
  },
  "language_info": {
   "codemirror_mode": {
    "name": "ipython",
    "version": 3
   },
   "file_extension": ".py",
   "mimetype": "text/x-python",
   "name": "python",
   "nbconvert_exporter": "python",
   "pygments_lexer": "ipython3",
   "version": "3.8.8"
  }
 },
 "nbformat": 4,
 "nbformat_minor": 5
}
