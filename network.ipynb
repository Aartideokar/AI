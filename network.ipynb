{
 "cells": [
  {
   "cell_type": "code",
   "execution_count": 1,
   "id": "a41fa906",
   "metadata": {},
   "outputs": [
    {
     "name": "stdout",
     "output_type": "stream",
     "text": [
      "Requirement already satisfied: pgmpy in c:\\users\\mscit\\anaconda3\\lib\\site-packages (0.1.20)\n",
      "Requirement already satisfied: statsmodels in c:\\users\\mscit\\anaconda3\\lib\\site-packages (from pgmpy) (0.12.2)\n",
      "Requirement already satisfied: numpy in c:\\users\\mscit\\anaconda3\\lib\\site-packages (from pgmpy) (1.20.1)\n",
      "Requirement already satisfied: scikit-learn in c:\\users\\mscit\\anaconda3\\lib\\site-packages (from pgmpy) (0.24.1)\n",
      "Requirement already satisfied: networkx in c:\\users\\mscit\\anaconda3\\lib\\site-packages (from pgmpy) (2.5)\n",
      "Requirement already satisfied: tqdm in c:\\users\\mscit\\anaconda3\\lib\\site-packages (from pgmpy) (4.59.0)\n",
      "Requirement already satisfied: scipy in c:\\users\\mscit\\anaconda3\\lib\\site-packages (from pgmpy) (1.6.2)\n",
      "Requirement already satisfied: pandas in c:\\users\\mscit\\anaconda3\\lib\\site-packages (from pgmpy) (1.2.4)\n",
      "Requirement already satisfied: opt-einsum in c:\\users\\mscit\\anaconda3\\lib\\site-packages (from pgmpy) (3.3.0)\n",
      "Requirement already satisfied: joblib in c:\\users\\mscit\\anaconda3\\lib\\site-packages (from pgmpy) (1.0.1)\n",
      "Requirement already satisfied: torch in c:\\users\\mscit\\anaconda3\\lib\\site-packages (from pgmpy) (1.8.2+cu111)\n",
      "Requirement already satisfied: pyparsing in c:\\users\\mscit\\anaconda3\\lib\\site-packages (from pgmpy) (2.4.7)\n",
      "Requirement already satisfied: decorator>=4.3.0 in c:\\users\\mscit\\anaconda3\\lib\\site-packages (from networkx->pgmpy) (5.0.6)\n",
      "Requirement already satisfied: python-dateutil>=2.7.3 in c:\\users\\mscit\\anaconda3\\lib\\site-packages (from pandas->pgmpy) (2.8.1)\n",
      "Requirement already satisfied: pytz>=2017.3 in c:\\users\\mscit\\anaconda3\\lib\\site-packages (from pandas->pgmpy) (2021.1)\n",
      "Requirement already satisfied: six>=1.5 in c:\\users\\mscit\\anaconda3\\lib\\site-packages (from python-dateutil>=2.7.3->pandas->pgmpy) (1.15.0)\n",
      "Requirement already satisfied: threadpoolctl>=2.0.0 in c:\\users\\mscit\\anaconda3\\lib\\site-packages (from scikit-learn->pgmpy) (2.1.0)\n",
      "Requirement already satisfied: patsy>=0.5 in c:\\users\\mscit\\anaconda3\\lib\\site-packages (from statsmodels->pgmpy) (0.5.1)\n",
      "Requirement already satisfied: typing-extensions in c:\\users\\mscit\\anaconda3\\lib\\site-packages (from torch->pgmpy) (3.7.4.3)\n"
     ]
    }
   ],
   "source": [
    "!pip install pgmpy"
   ]
  },
  {
   "cell_type": "code",
   "execution_count": 2,
   "id": "84fa2f9b",
   "metadata": {},
   "outputs": [
    {
     "ename": "AttributeError",
     "evalue": "module 'torch' has no attribute 'cuda'",
     "output_type": "error",
     "traceback": [
      "\u001b[1;31m---------------------------------------------------------------------------\u001b[0m",
      "\u001b[1;31mAttributeError\u001b[0m                            Traceback (most recent call last)",
      "\u001b[1;32m<ipython-input-2-58b4159c46e6>\u001b[0m in \u001b[0;36m<module>\u001b[1;34m\u001b[0m\n\u001b[0;32m      3\u001b[0m \u001b[1;32mimport\u001b[0m \u001b[0mcsv\u001b[0m\u001b[1;33m\u001b[0m\u001b[1;33m\u001b[0m\u001b[0m\n\u001b[0;32m      4\u001b[0m \u001b[1;32mimport\u001b[0m \u001b[0mtorch\u001b[0m\u001b[1;33m\u001b[0m\u001b[1;33m\u001b[0m\u001b[0m\n\u001b[1;32m----> 5\u001b[1;33m \u001b[1;32mfrom\u001b[0m \u001b[0mpgmpy\u001b[0m\u001b[1;33m.\u001b[0m\u001b[0mestimators\u001b[0m \u001b[1;32mimport\u001b[0m \u001b[0mMaximumLikelihoodEstimator\u001b[0m\u001b[1;33m\u001b[0m\u001b[1;33m\u001b[0m\u001b[0m\n\u001b[0m\u001b[0;32m      6\u001b[0m \u001b[1;32mfrom\u001b[0m \u001b[0mpgmpy\u001b[0m\u001b[1;33m.\u001b[0m\u001b[0mmodels\u001b[0m \u001b[1;32mimport\u001b[0m \u001b[0mBayesianModel\u001b[0m\u001b[1;33m\u001b[0m\u001b[1;33m\u001b[0m\u001b[0m\n\u001b[0;32m      7\u001b[0m \u001b[1;32mfrom\u001b[0m \u001b[0mpgmpy\u001b[0m\u001b[1;33m.\u001b[0m\u001b[0minference\u001b[0m \u001b[1;32mimport\u001b[0m \u001b[0mVariableElimination\u001b[0m\u001b[1;33m\u001b[0m\u001b[1;33m\u001b[0m\u001b[0m\n",
      "\u001b[1;32m~\\anaconda3\\lib\\site-packages\\pgmpy\\__init__.py\u001b[0m in \u001b[0;36m<module>\u001b[1;34m\u001b[0m\n\u001b[1;32m----> 1\u001b[1;33m \u001b[1;32mfrom\u001b[0m \u001b[1;33m.\u001b[0m\u001b[0mglobal_vars\u001b[0m \u001b[1;32mimport\u001b[0m \u001b[0mHAS_PANDAS\u001b[0m\u001b[1;33m,\u001b[0m \u001b[0mdevice\u001b[0m\u001b[1;33m,\u001b[0m \u001b[0mno_progress\u001b[0m\u001b[1;33m\u001b[0m\u001b[1;33m\u001b[0m\u001b[0m\n\u001b[0m\u001b[0;32m      2\u001b[0m \u001b[1;33m\u001b[0m\u001b[0m\n\u001b[0;32m      3\u001b[0m \u001b[0m__all__\u001b[0m \u001b[1;33m=\u001b[0m \u001b[1;33m[\u001b[0m\u001b[1;34m\"HAS_PANDAS\"\u001b[0m\u001b[1;33m,\u001b[0m \u001b[1;34m\"device\"\u001b[0m\u001b[1;33m]\u001b[0m\u001b[1;33m\u001b[0m\u001b[1;33m\u001b[0m\u001b[0m\n\u001b[0;32m      4\u001b[0m \u001b[0m__version__\u001b[0m \u001b[1;33m=\u001b[0m \u001b[1;34m\"0.1.20\"\u001b[0m\u001b[1;33m\u001b[0m\u001b[1;33m\u001b[0m\u001b[0m\n",
      "\u001b[1;32m~\\anaconda3\\lib\\site-packages\\pgmpy\\global_vars.py\u001b[0m in \u001b[0;36m<module>\u001b[1;34m\u001b[0m\n\u001b[0;32m      6\u001b[0m \u001b[1;33m\u001b[0m\u001b[0m\n\u001b[0;32m      7\u001b[0m     \u001b[1;31m# Check if GPU is available\u001b[0m\u001b[1;33m\u001b[0m\u001b[1;33m\u001b[0m\u001b[1;33m\u001b[0m\u001b[0m\n\u001b[1;32m----> 8\u001b[1;33m     \u001b[1;32mif\u001b[0m \u001b[0mtorch\u001b[0m\u001b[1;33m.\u001b[0m\u001b[0mcuda\u001b[0m\u001b[1;33m.\u001b[0m\u001b[0mis_available\u001b[0m\u001b[1;33m(\u001b[0m\u001b[1;33m)\u001b[0m\u001b[1;33m:\u001b[0m\u001b[1;33m\u001b[0m\u001b[1;33m\u001b[0m\u001b[0m\n\u001b[0m\u001b[0;32m      9\u001b[0m         \u001b[0mdevice\u001b[0m \u001b[1;33m=\u001b[0m \u001b[0mtorch\u001b[0m\u001b[1;33m.\u001b[0m\u001b[0mdevice\u001b[0m\u001b[1;33m(\u001b[0m\u001b[1;34m\"cuda\"\u001b[0m\u001b[1;33m)\u001b[0m\u001b[1;33m\u001b[0m\u001b[1;33m\u001b[0m\u001b[0m\n\u001b[0;32m     10\u001b[0m     \u001b[1;32melse\u001b[0m\u001b[1;33m:\u001b[0m\u001b[1;33m\u001b[0m\u001b[1;33m\u001b[0m\u001b[0m\n",
      "\u001b[1;31mAttributeError\u001b[0m: module 'torch' has no attribute 'cuda'"
     ]
    }
   ],
   "source": [
    "import numpy as np\n",
    "import pandas as pd\n",
    "import csv\n",
    "import torch\n",
    "from pgmpy.estimators import MaximumLikelihoodEstimator\n",
    "from pgmpy.models import BayesianModel\n",
    "from pgmpy.inference import VariableElimination\n",
    "\n",
    "heartDisease = pd.read_csv('heart - heart.csv')\n",
    "heartDisease = heartDisease.replace('?',np.nan)\n",
    "\n",
    "print('Sample  instances from the dataset are given below')\n",
    "print(heartDisease.head())\n",
    "\n",
    "print('\\ Attributes and datatypes')\n",
    "print(heartDisease.dtypes)\n",
    "\n",
    "model = BayesianModel([('age','heartdisease'),('exang','heartdisease'),('cp','heartdisease'),('heartdisease','restecg'),('heartdisease','chol')])\n",
    "print('\\nLearning CPD using Maximum likelhood estimators')\n",
    "model.fit(heartDisease,estimator=MaximumLikelihoodEstimator)\n",
    "\n",
    "print('\\n Inferencing with Bayesian Network:')\n",
    "HeartDiseasetest_infer = VariableElimination(model)\n",
    "\n",
    "print('\\n 1.Probability of HeartDisease given evidence=restecg')\n",
    "q1 = HeartDiseasetest_infer.query(variables=['heartdisease'],evidence={'restecg':1})\n",
    "print(q1)\n",
    "\n",
    "print('\\n 2. Probability of HeartDisease given evidence=cp')\n",
    "q2 = HeartDiseasetest_infer.query(variables=['heartdisease'],evidence={'cp':2})\n",
    "print(q2)"
   ]
  },
  {
   "cell_type": "code",
   "execution_count": null,
   "id": "0f5bdd5d",
   "metadata": {},
   "outputs": [],
   "source": [
    "import numpy as np\n",
    "import pandas as pd\n",
    "import csv\n",
    "from pgmpy.estimators import MaximumLikelihoodEstimator\n",
    "from pgmpy.models import BayesianModel\n",
    "from pgmpy.inference import VariableElimination\n",
    "\n",
    "heartDisease = pd.read_csv('heart - heart.csv')\n",
    "heartDisease = heartDisease.replace('?',np.nan)\n",
    "\n",
    "print('Sample  instances from the dataset are given below')\n",
    "print(heartDisease.head())\n",
    "\n",
    "print('\\n Attributes and datatypes')\n",
    "print(heartDisease.dtypes)\n",
    "\n",
    "model = BayesianModel([('age','heartdisease'),('exang','heartdisease'),('cp','heartdisease'),('heartdisease','restecg'),('heartdisease','chol')])\n",
    "print('\\nLearning CPD using Maximum likelihood estimators')\n",
    "model.fit(heartDisease,estimator=MaximumLikelihoodEstimator)\n",
    "\n",
    "print('\\n Inferencing with Bayesian Network:')\n",
    "HeartDiseasetest_infer = VariableElimination(model)\n",
    "\n",
    "print('\\n 1. Probability of HeartDisease given evidence= restecg')\n",
    "q1 = HeartDiseasetest_infer.query(variables=['heartdisease'],evidence={'restecg':1})\n",
    "print(q1)\n",
    "\n",
    "print('\\n 2. Probability of HeartDisease given evidence=cp')\n",
    "q2 = HeartDiseasetest_infer.query(variables=['heartdisease'],evidence={'cp':2})\n",
    "print(q2)\n"
   ]
  },
  {
   "cell_type": "code",
   "execution_count": null,
   "id": "2c8e9816",
   "metadata": {},
   "outputs": [],
   "source": []
  }
 ],
 "metadata": {
  "kernelspec": {
   "display_name": "Python 3",
   "language": "python",
   "name": "python3"
  },
  "language_info": {
   "codemirror_mode": {
    "name": "ipython",
    "version": 3
   },
   "file_extension": ".py",
   "mimetype": "text/x-python",
   "name": "python",
   "nbconvert_exporter": "python",
   "pygments_lexer": "ipython3",
   "version": "3.8.8"
  }
 },
 "nbformat": 4,
 "nbformat_minor": 5
}
