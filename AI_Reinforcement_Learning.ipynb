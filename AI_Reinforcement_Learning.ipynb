{
 "cells": [
  {
   "cell_type": "code",
   "execution_count": 1,
   "id": "38622c71",
   "metadata": {},
   "outputs": [],
   "source": [
    "import numpy as np"
   ]
  },
  {
   "cell_type": "markdown",
   "id": "96765863",
   "metadata": {},
   "source": [
    "# R Matrix"
   ]
  },
  {
   "cell_type": "code",
   "execution_count": 2,
   "id": "4874a05a",
   "metadata": {},
   "outputs": [],
   "source": [
    "R=np.matrix([[-1,-1,-1,-1,0,-1],\n",
    "            [-1,-1,-1,0,-1,100],\n",
    "            [-1,-1,-1,0,-1,-1],\n",
    "            [-1,0,0,-1,0,-1],\n",
    "            [-1,0,0,-1,-1,100],\n",
    "            [-1,0,-1,-1,0,100]\n",
    "])"
   ]
  },
  {
   "cell_type": "markdown",
   "id": "e418b4bf",
   "metadata": {},
   "source": [
    "# Q Matrix"
   ]
  },
  {
   "cell_type": "code",
   "execution_count": 3,
   "id": "c8a98af1",
   "metadata": {},
   "outputs": [],
   "source": [
    "Q = np.matrix(np.zeros([6,6]))"
   ]
  },
  {
   "cell_type": "markdown",
   "id": "2d955885",
   "metadata": {},
   "source": [
    "# Gamma Learning Parameter"
   ]
  },
  {
   "cell_type": "code",
   "execution_count": 4,
   "id": "c84e1f9d",
   "metadata": {},
   "outputs": [],
   "source": [
    "gamma = 0.8"
   ]
  },
  {
   "cell_type": "markdown",
   "id": "ef77a7d8",
   "metadata": {},
   "source": [
    "# Initial state usually to be chosen at random."
   ]
  },
  {
   "cell_type": "code",
   "execution_count": 5,
   "id": "c21430c3",
   "metadata": {},
   "outputs": [],
   "source": [
    "initial_state=1"
   ]
  },
  {
   "cell_type": "markdown",
   "id": "841ca19e",
   "metadata": {},
   "source": [
    "# This function returns all available actions in the state given as on argument."
   ]
  },
  {
   "cell_type": "code",
   "execution_count": 6,
   "id": "06d0c285",
   "metadata": {},
   "outputs": [],
   "source": [
    "def available_actions(state):\n",
    "    current_state_row=R[state,]\n",
    "    av_act=np.where(current_state_row>=0)[1]\n",
    "    return av_act"
   ]
  },
  {
   "cell_type": "markdown",
   "id": "4614e52b",
   "metadata": {},
   "source": [
    "# Get available actions in the current state"
   ]
  },
  {
   "cell_type": "code",
   "execution_count": 7,
   "id": "d179a799",
   "metadata": {},
   "outputs": [],
   "source": [
    "available_act=available_actions(initial_state)"
   ]
  },
  {
   "cell_type": "markdown",
   "id": "4df48286",
   "metadata": {},
   "source": [
    "# This function choosen at random which action to be performed within the range of all the available actions."
   ]
  },
  {
   "cell_type": "code",
   "execution_count": 8,
   "id": "19af635f",
   "metadata": {},
   "outputs": [],
   "source": [
    "def simple_next_action(available_actions_range):\n",
    "    next_action=int(np.random.choice(available_act,1))\n",
    "    return next_action"
   ]
  },
  {
   "cell_type": "markdown",
   "id": "2c5ff782",
   "metadata": {},
   "source": [
    "# sample next action to be performed"
   ]
  },
  {
   "cell_type": "code",
   "execution_count": 9,
   "id": "16dd6aa3",
   "metadata": {},
   "outputs": [],
   "source": [
    "action = simple_next_action(available_act)"
   ]
  },
  {
   "cell_type": "markdown",
   "id": "793e02eb",
   "metadata": {},
   "source": [
    "# This function undates the Q matrix according to the path selected and the Q  learning algorithm."
   ]
  },
  {
   "cell_type": "code",
   "execution_count": 10,
   "id": "a96de970",
   "metadata": {},
   "outputs": [],
   "source": [
    "def update(current_state,action,gamma):\n",
    "    max_index=np.where(Q[action,]==np.max(Q[action,]))[1]\n",
    "    \n",
    "    if max_index.shape[0]>1:\n",
    "        max_index=int(np.random.choice(max_index,size=1))\n",
    "    else:\n",
    "        max_index=int(max_index)\n",
    "    max_value=Q[action,max_index]\n",
    "    \n",
    "    #Q learning formula\n",
    "    Q[current_state,action]=R[current_state,action] + gamma * max_value"
   ]
  },
  {
   "cell_type": "markdown",
   "id": "96256d65",
   "metadata": {},
   "source": [
    "# Update Q Matrix"
   ]
  },
  {
   "cell_type": "code",
   "execution_count": 11,
   "id": "3222e44b",
   "metadata": {},
   "outputs": [],
   "source": [
    "update(initial_state,action,gamma)"
   ]
  },
  {
   "cell_type": "markdown",
   "id": "6749f70d",
   "metadata": {},
   "source": [
    "# Training\n",
    "\n",
    "Train over 10000 iterations. Re-iterate the process above."
   ]
  },
  {
   "cell_type": "code",
   "execution_count": 12,
   "id": "f6d0ad20",
   "metadata": {},
   "outputs": [],
   "source": [
    "for i in range(10000):\n",
    "    current_state=np.random.randint(0,int(Q.shape[0]))\n",
    "    available_act=available_actions(current_state)\n",
    "    action=simple_next_action(available_act)\n",
    "    update(current_state,action,gamma)"
   ]
  },
  {
   "cell_type": "markdown",
   "id": "2897d25e",
   "metadata": {},
   "source": [
    "# Normalize the trained Q matrix"
   ]
  },
  {
   "cell_type": "code",
   "execution_count": 13,
   "id": "1fab9d26",
   "metadata": {},
   "outputs": [
    {
     "name": "stdout",
     "output_type": "stream",
     "text": [
      "Trained Q matrix\n",
      "[[  0.    0.    0.    0.   80.    0. ]\n",
      " [  0.    0.    0.   64.    0.  100. ]\n",
      " [  0.    0.    0.   64.    0.    0. ]\n",
      " [  0.   80.   51.2   0.   80.    0. ]\n",
      " [  0.   80.   51.2   0.    0.  100. ]\n",
      " [  0.   80.    0.    0.   80.  100. ]]\n"
     ]
    }
   ],
   "source": [
    "print(\"Trained Q matrix\")\n",
    "print(Q/np.max(Q)*100)"
   ]
  },
  {
   "cell_type": "markdown",
   "id": "94938db3",
   "metadata": {},
   "source": [
    "# Testing\n",
    "\n",
    "Goal state = 5 Best sequence path starting from 2 -> 2,3,1,5"
   ]
  },
  {
   "cell_type": "code",
   "execution_count": 15,
   "id": "ff1a5ca4",
   "metadata": {},
   "outputs": [
    {
     "name": "stdout",
     "output_type": "stream",
     "text": [
      "selected path:\n",
      "[4, 5]\n"
     ]
    }
   ],
   "source": [
    "current_state=4 #check for current_state=2\n",
    "steps=[current_state]\n",
    "\n",
    "while current_state!=5:\n",
    "    next_step_index=np.where(Q[current_state,]==np.max(Q[current_state,]))[1]\n",
    "    \n",
    "    if next_step_index.shape[0]>1:\n",
    "        next_step_index=int(np.random.choice(next_step_index,size=1))\n",
    "    else:\n",
    "        next_step_index=int(next_step_index)\n",
    "        \n",
    "        steps.append(next_step_index)\n",
    "        current_state=next_step_index\n",
    "        \n",
    "#print selected sequence of steps\n",
    "print(\"selected path:\")\n",
    "print(steps)"
   ]
  },
  {
   "cell_type": "code",
   "execution_count": null,
   "id": "fb915cfc",
   "metadata": {},
   "outputs": [],
   "source": []
  }
 ],
 "metadata": {
  "kernelspec": {
   "display_name": "Python 3",
   "language": "python",
   "name": "python3"
  },
  "language_info": {
   "codemirror_mode": {
    "name": "ipython",
    "version": 3
   },
   "file_extension": ".py",
   "mimetype": "text/x-python",
   "name": "python",
   "nbconvert_exporter": "python",
   "pygments_lexer": "ipython3",
   "version": "3.8.8"
  }
 },
 "nbformat": 4,
 "nbformat_minor": 5
}
